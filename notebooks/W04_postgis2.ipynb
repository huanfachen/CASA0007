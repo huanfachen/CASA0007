{
 "cells": [
  {
   "cell_type": "markdown",
   "metadata": {},
   "source": [
    "# Spatial Joins Exercises\n",
    "\n",
    "Here\\'s a reminder of some of the functions we have seen. Hint: they\n",
    "should be useful for the exercises!\n",
    "\n",
    "-   `sum(expression)`: aggregate to\n",
    "    return a sum for a set of records\n",
    "-   `count(expression)`: aggregate to\n",
    "    return the size of a set of records\n",
    "-   `ST_Area(geometry)` returns the\n",
    "    area of the polygons\n",
    "-   `ST_AsText(geometry)` returns WKT `text`\n",
    "-   `ST_Contains(geometry A, geometry B)` returns the true if geometry A contains geometry B\n",
    "-   `ST_Distance(geometry A, geometry B)` returns the minimum distance between geometry A and\n",
    "    geometry B\n",
    "-   `ST_DWithin(geometry A, geometry B, radius)` returns the true if geometry A is radius distance or less from geometry B\n",
    "-   `ST_GeomFromText(text)` returns `geometry`\n",
    "-   `ST_Intersects(geometry A, geometry B)` returns the true if geometry A intersects geometry B\n",
    "-   `ST_Length(linestring)` returns the length of the linestring\n",
    "-   `ST_Touches(geometry A, geometry B)` returns the true if the boundary of geometry A touches geometry B\n",
    "-   `ST_Within(geometry A, geometry B)` returns the true if geometry A is within geometry B\n",
    "\n",
    "\n",
    "Uncomment and run the following cell to install the required packages.\n"
   ]
  },
  {
   "cell_type": "code",
   "execution_count": null,
   "metadata": {},
   "outputs": [],
   "source": [
    "# %pip install duckdb leafmap lonboard\n",
    "import duckdb\n",
    "import leafmap"
   ]
  },
  {
   "cell_type": "markdown",
   "metadata": {},
   "source": [
    "Download the [nyc_data.zip](https://github.com/opengeos/data/raw/main/duckdb/nyc_data.zip) dataset using leafmap. The zip file contains the following datasets. Create a new DuckDB database and import the datasets into the database. Each dataset should be imported into a separate table. \n",
    "\n",
    "- nyc_census_blocks\n",
    "- nyc_homicides\n",
    "- nyc_neighborhoods\n",
    "- nyc_streets\n",
    "- nyc_subway_stations"
   ]
  },
  {
   "cell_type": "markdown",
   "metadata": {},
   "source": [
    "1. **What subway station is in \\'Little Italy\\'? What subway route is it on?**"
   ]
  },
  {
   "cell_type": "code",
   "execution_count": null,
   "metadata": {},
   "outputs": [],
   "source": []
  },
  {
   "cell_type": "markdown",
   "metadata": {},
   "source": [
    "2. **What are all the neighborhoods served by the 6-train?** (Hint: The `routes` column in the `nyc_subway_stations` table has values like \\'B,D,6,V\\' and \\'C,6\\')\n"
   ]
  },
  {
   "cell_type": "code",
   "execution_count": null,
   "metadata": {},
   "outputs": [],
   "source": []
  },
  {
   "cell_type": "markdown",
   "metadata": {},
   "source": [
    "3. **After 9/11, the \\'Battery Park\\' neighborhood was off limits for several days. How many people had to be evacuated?**"
   ]
  },
  {
   "cell_type": "code",
   "execution_count": null,
   "metadata": {},
   "outputs": [],
   "source": []
  },
  {
   "cell_type": "markdown",
   "metadata": {},
   "source": [
    "4. **What neighborhood has the highest population density (persons/km2)?**\n"
   ]
  },
  {
   "cell_type": "code",
   "execution_count": null,
   "metadata": {},
   "outputs": [],
   "source": []
  },
  {
   "cell_type": "markdown",
   "metadata": {},
   "source": [
    "When you're finished, you can check your answers [here](https://postgis.net/workshops/postgis-intro/joins_exercises.html). "
   ]
  },
  {
   "cell_type": "markdown",
   "metadata": {},
   "source": [
    "# Ship-to-Ship Transfer Detection\n",
    "\n",
    "Now for a less structured exercise. We're going to look at ship-to-ship transfers. The idea is that two ships meet up in the middle of the ocean, and one ship transfers cargo to the other. This is a common way to avoid sanctions, and is often used to transfer oil from sanctioned countries to other countries. We're going to look at a few different ways to detect these transfers using AIS data. "
   ]
  },
  {
   "cell_type": "code",
   "execution_count": null,
   "metadata": {},
   "outputs": [],
   "source": [
    "%pip install duckdb duckdb-engine jupysql"
   ]
  },
  {
   "cell_type": "code",
   "execution_count": null,
   "metadata": {},
   "outputs": [],
   "source": [
    "import duckdb\n",
    "import pandas as pd\n",
    "\n",
    "# Import jupysql Jupyter extension to create SQL cells\n",
    "%load_ext sql\n",
    "%config SqlMagic.autopandas = True\n",
    "%config SqlMagic.feedback = False\n",
    "%config SqlMagic.displaycon = False\n",
    "%sql duckdb:///:memory:"
   ]
  },
  {
   "cell_type": "code",
   "execution_count": null,
   "metadata": {},
   "outputs": [],
   "source": [
    "%%sql\n",
    "INSTALL httpfs;\n",
    "LOAD httpfs;\n",
    "INSTALL spatial;\n",
    "LOAD spatial;"
   ]
  },
  {
   "cell_type": "markdown",
   "metadata": {},
   "source": [
    "## Step 1\n",
    "\n",
    "Create a spatial database using the following AIS data:\n",
    "\n",
    "https://storage.googleapis.com/qm2/casa0025_ships.csv\n",
    "\n",
    "Each row in this dataset is an AIS 'ping' indicating the position of a ship at a particular date/time, alongside vessel-level characteristics.\n",
    "\n",
    "It contains the following columns: \n",
    "* `vesselid`: A unique numerical identifier for each ship, like a license plate\n",
    "* `vessel_name`: The ship's name\n",
    "* `vsl_descr`: The ship's type\n",
    "* `dwt`: The ship's Deadweight Tonnage (how many tons it can carry)\n",
    "* `v_length`: The ship's length in meters\n",
    "* `draught`: How many meters deep the ship is draughting (how low it sits in the water). Effectively indicates how much cargo the ship is carrying\n",
    "* `sog`: Speed over Ground (in knots)\n",
    "* `date`: A timestamp for the AIS signal \n",
    "* `lat`: The latitude of the AIS signal (EPSG:4326)\n",
    "* `lon`: The longitude of the AIS signal (EPSG:4326)\n",
    "\n",
    "Create a table called 'ais' where each row is a different AIS ping, with no superfluous information. Construct a geometry column. \n",
    "\n",
    "Create a second table called 'vinfo' which contains vessel-level information with no superfluous information.\n",
    "\n",
    "You can set a spatial index on each of these tables as follows: \n",
    "\n",
    "`CREATE INDEX index_name ON table_name USING RTREE(geom);`"
   ]
  },
  {
   "cell_type": "code",
   "execution_count": null,
   "metadata": {},
   "outputs": [],
   "source": []
  },
  {
   "cell_type": "markdown",
   "metadata": {},
   "source": [
    "## Step 2\n",
    "\n",
    "Use a spatial join to identify ship-to-ship transfers in this dataset.\n",
    "Two ships are considered to be conducting a ship to ship transfer IF: \n",
    "\n",
    "* They are within 500 meters of each other \n",
    "* For more than two hours \n",
    "* And their speed is lower than 1 knot\n",
    "\n",
    "Some things to consider: make sure you're not joining ships with themselves. Try working with subsets of the data first while you try different things out. "
   ]
  },
  {
   "cell_type": "code",
   "execution_count": null,
   "metadata": {},
   "outputs": [],
   "source": []
  }
 ],
 "metadata": {
  "language_info": {
   "name": "python"
  }
 },
 "nbformat": 4,
 "nbformat_minor": 2
}
